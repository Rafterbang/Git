{
  "nbformat": 4,
  "nbformat_minor": 0,
  "metadata": {
    "colab": {
      "name": "Kegiatan Modul 1 v2.ipynb",
      "provenance": [],
      "collapsed_sections": [],
      "include_colab_link": true
    },
    "kernelspec": {
      "name": "python3",
      "display_name": "Python 3"
    }
  },
  "cells": [
    {
      "cell_type": "markdown",
      "metadata": {
        "id": "view-in-github",
        "colab_type": "text"
      },
      "source": [
        "<a href=\"https://colab.research.google.com/github/Rafterbang/Mobile6/blob/master/Modul%201%20PD.ipynb\" target=\"_parent\"><img src=\"https://colab.research.google.com/assets/colab-badge.svg\" alt=\"Open In Colab\"/></a>"
      ]
    },
    {
      "cell_type": "markdown",
      "metadata": {
        "id": "GqYkgeEdhDa4"
      },
      "source": [
        "# **Kegiatan Modul 1**"
      ]
    },
    {
      "cell_type": "markdown",
      "metadata": {
        "id": "ux11t5HIAiYK"
      },
      "source": [
        "**Poin penilaian :**\n",
        "\n",
        "* Tingkat kesesuaian output program\n",
        "* Kerapian kode program\n",
        "* Kesederhanaan Kode"
      ]
    },
    {
      "cell_type": "markdown",
      "metadata": {
        "id": "omlcQzYu6ppu"
      },
      "source": [
        "Kegiatan 1 : **15 poin**\n",
        "\n",
        "Terdapat suatu list seperti berikut : `a=[1, 2, 3, 4, 5, 6, 7, 8, 9, 10]`. Buatlah program untuk mencari suatu angka dalam list."
      ]
    },
    {
      "cell_type": "markdown",
      "metadata": {
        "id": "o_YA1AZQhWiW"
      },
      "source": [
        "```\n",
        "Cari : 5\n",
        "Output : 5 found at index 4\n",
        "```"
      ]
    },
    {
      "cell_type": "code",
      "metadata": {
        "id": "S8w3r2KA5I3D",
        "colab": {
          "base_uri": "https://localhost:8080/"
        },
        "outputId": "3c6aa607-9a0d-4cc7-db88-77cc203ae8b7"
      },
      "source": [
        "# TULIS CODE ANDA DISINI\n",
        "\n",
        "def cari(listData, data):\n",
        "  i=0\n",
        "  ketemu = False\n",
        "  while i < len(listData) and not ketemu:\n",
        "    if a[i]==data:\n",
        "      ketemu=True\n",
        "      print(data, \"found at index\", a.index(data))\n",
        "    else:\n",
        "      i = i+1\n",
        "  return ketemu\n",
        "\n",
        "a = [1,2,3,4,5,6,7,8,9,10]\n",
        "cari(a,5)"
      ],
      "execution_count": 75,
      "outputs": [
        {
          "output_type": "stream",
          "text": [
            "5 found at index 4\n"
          ],
          "name": "stdout"
        },
        {
          "output_type": "execute_result",
          "data": {
            "text/plain": [
              "True"
            ]
          },
          "metadata": {
            "tags": []
          },
          "execution_count": 75
        }
      ]
    },
    {
      "cell_type": "markdown",
      "metadata": {
        "id": "fPPC2Tml-HuD"
      },
      "source": [
        "Kegiatan 2 : **15 poin**\n",
        "\n",
        "Tulis program Python untuk menghapus tupel kosong dari daftar list tupel dibawah."
      ]
    },
    {
      "cell_type": "code",
      "metadata": {
        "id": "jWPFcTI7F-f9"
      },
      "source": [
        "L = [('informatika', 'umm'), (), (), ('praktikum', 'data', 'mining'), ('Berhasil')]"
      ],
      "execution_count": 76,
      "outputs": []
    },
    {
      "cell_type": "markdown",
      "metadata": {
        "id": "SKK50Xdwhh5P"
      },
      "source": [
        "```\n",
        "# Output : [('informatika', 'umm'), ('praktikum', 'data', 'mining'), 'Berhasil']\n",
        "```\n",
        "\n"
      ]
    },
    {
      "cell_type": "code",
      "metadata": {
        "id": "8Tip9AweMJPe",
        "colab": {
          "base_uri": "https://localhost:8080/"
        },
        "outputId": "1aa3cac8-0f99-4202-9d70-e0a1c6eb0e11"
      },
      "source": [
        "# TULIS CODE ANDA DISINI\r\n",
        "del (L[1:3])\r\n",
        "print(L)"
      ],
      "execution_count": 77,
      "outputs": [
        {
          "output_type": "stream",
          "text": [
            "[('informatika', 'umm'), ('praktikum', 'data', 'mining'), 'Berhasil']\n"
          ],
          "name": "stdout"
        }
      ]
    },
    {
      "cell_type": "markdown",
      "metadata": {
        "id": "BebD64E6IkYt"
      },
      "source": [
        "Kegiatan 3 : **15 poin**\n",
        "\n",
        "Urutkan daftar tuple dibawah ini berdasarkan nilai **desimalnya** dari kecil ke besar."
      ]
    },
    {
      "cell_type": "code",
      "metadata": {
        "id": "VUPWITxTIjxK"
      },
      "source": [
        "times = [('Isya', '19.10'), ('Dzuhur', '12.20'), ('Tidur', '23.00'), ('Ashar', '15.10'), ('Magrib', '17.40')]"
      ],
      "execution_count": 25,
      "outputs": []
    },
    {
      "cell_type": "markdown",
      "metadata": {
        "id": "MkoCh0jGhoS8"
      },
      "source": [
        "```\n",
        "# Output : [('Dzuhur', '12.20'), ('Ashar', '15.10'), ('Magrib', '17.40'), ('Isya', '19.10'), ('Tidur', '24.5')]\n",
        "```\n",
        "\n"
      ]
    },
    {
      "cell_type": "code",
      "metadata": {
        "id": "1XyK6eKjMj9e",
        "colab": {
          "base_uri": "https://localhost:8080/"
        },
        "outputId": "4e5109fa-1ebe-4b1d-df54-f1b8269bfa43"
      },
      "source": [
        "# TULIS CODE ANDA DISINI\r\n",
        "sort = sorted(times, key=lambda x: x[1])\r\n",
        "print (sort)"
      ],
      "execution_count": 26,
      "outputs": [
        {
          "output_type": "stream",
          "text": [
            "[('Dzuhur', '12.20'), ('Ashar', '15.10'), ('Magrib', '17.40'), ('Isya', '19.10'), ('Tidur', '23.00')]\n"
          ],
          "name": "stdout"
        }
      ]
    },
    {
      "cell_type": "markdown",
      "metadata": {
        "id": "DORXqfrPK0gY"
      },
      "source": [
        "Kegiatan 4 : **10 poin**\n",
        "\n",
        "Tulis program Python untuk menghapus elemen bernilai duplikat dari list."
      ]
    },
    {
      "cell_type": "code",
      "metadata": {
        "id": "emhJdGcPIUKU"
      },
      "source": [
        "a = [10,20,30,20,10,50,60,40,80,50,40]"
      ],
      "execution_count": 63,
      "outputs": []
    },
    {
      "cell_type": "markdown",
      "metadata": {
        "id": "_5JYTo-MhwBT"
      },
      "source": [
        "```\n",
        "# Output : a = [10, 20, 30, 50, 60, 40, 80]\n",
        "```\n",
        "\n"
      ]
    },
    {
      "cell_type": "code",
      "metadata": {
        "id": "nYmaOHLwNS4y",
        "colab": {
          "base_uri": "https://localhost:8080/"
        },
        "outputId": "38629bb2-48bf-4018-9b4f-401f5d901951"
      },
      "source": [
        "# TULIS CODE ANDA DISINI\r\n",
        "a = list(dict.fromkeys(a))\r\n",
        "print(\"a =\",a)"
      ],
      "execution_count": 66,
      "outputs": [
        {
          "output_type": "stream",
          "text": [
            "a = [10, 20, 30, 50, 60, 40, 80]\n"
          ],
          "name": "stdout"
        }
      ]
    },
    {
      "cell_type": "markdown",
      "metadata": {
        "id": "td5pdXryP7fT"
      },
      "source": [
        "Kegiatan 5 : **15 poin**\n",
        "\n",
        "Buat program untuk mengkonversi numpy array menjadi list dan tuple. Gunakan keyword `type(varName)` untuk mengetahui jenis atau tipe data dari variabel atau nilai. "
      ]
    },
    {
      "cell_type": "code",
      "metadata": {
        "id": "GcBdjZGNh1Jd",
        "colab": {
          "base_uri": "https://localhost:8080/"
        },
        "outputId": "627030e9-f895-4a30-a909-e4503e590d86"
      },
      "source": [
        "# TULIS CODE ANDA DISINI\r\n",
        "import numpy as np\r\n",
        "a = np.array ([5,4,3,2,1])\r\n",
        "b = (list(a))\r\n",
        "c = (tuple(a))\r\n",
        "print(\"Numpy :\",a, type(a))\r\n",
        "print(\"List :\",b, type(b))\r\n",
        "print(\"Tuple :\",c, type(c))\r\n",
        "\r\n",
        "#type(a), type(b), type(c)"
      ],
      "execution_count": 39,
      "outputs": [
        {
          "output_type": "stream",
          "text": [
            "Numpy : [5 4 3 2 1] <class 'numpy.ndarray'>\n",
            "List : [5, 4, 3, 2, 1] <class 'list'>\n",
            "Tuple : (5, 4, 3, 2, 1) <class 'tuple'>\n"
          ],
          "name": "stdout"
        }
      ]
    },
    {
      "cell_type": "markdown",
      "metadata": {
        "id": "5rATFK-MQVSA"
      },
      "source": [
        "Kegiatan 6 : **10 poin**\n",
        "\n",
        "Tulis program untuk menghitung jarak Euclidean dari p1 dan p2. Anda dibebaskan disini, sehingga anda dapat menggunakan library apapun dan teknik apapun.\n",
        "\n",
        "**Note :**\n",
        "Dalam matematika, jarak Euclidean atau metrik Euclidean adalah jarak garis lurus **\"ordinary\"** antara dua titik dalam ruang Euclidean. Dengan jarak ini, ruang Euclidean menjadi ruang metrik. Norma terkait disebut norma Euclidean. Literatur yang lebih lama menyebut metrik sebagai metrik Pythagoras"
      ]
    },
    {
      "cell_type": "markdown",
      "metadata": {
        "id": "XyCBQEEYrfmN"
      },
      "source": [
        "**Read More :** \r\n",
        "*   [Euclidean Distance](http://rosalind.info/glossary/euclidean-distance/)\r\n",
        "*   [Python Math](https://docs.python.org/3/library/math.html)\r\n",
        "*   [Scipy](https://docs.scipy.org/doc/scipy/reference/)\r\n",
        "*   [Numpy](https://numpy.org/doc/stable/)\r\n",
        "\r\n"
      ]
    },
    {
      "cell_type": "code",
      "metadata": {
        "id": "0aIGIuhXh4ui"
      },
      "source": [
        "p1 = (1, 2, 3)\n",
        "p2 = (4, 5, 6)"
      ],
      "execution_count": null,
      "outputs": []
    },
    {
      "cell_type": "markdown",
      "metadata": {
        "id": "Llvbf5fsiQYN"
      },
      "source": [
        "```\n",
        "# Output\n",
        "Euclidean distance:  5.196152422706632\n",
        "```\n"
      ]
    },
    {
      "cell_type": "code",
      "metadata": {
        "id": "k22LwuERh27M",
        "colab": {
          "base_uri": "https://localhost:8080/"
        },
        "outputId": "ef3c9202-0109-4257-9988-b668baf6a152"
      },
      "source": [
        "# TULIS CODE ANDA DISINI\r\n",
        "import numpy as np \r\n",
        "#Merubah tuple menjadi numpy terlebih dahulu\r\n",
        "p1 = np.array([1,2,3])\r\n",
        "p2 = np.array([4,5,6])\r\n",
        "\r\n",
        "jarak = np.linalg.norm(p1-p2)\r\n",
        "\r\n",
        "print(\"Euclidean distance: \",jarak)"
      ],
      "execution_count": 41,
      "outputs": [
        {
          "output_type": "stream",
          "text": [
            "Euclidean distance:  5.196152422706632\n"
          ],
          "name": "stdout"
        }
      ]
    },
    {
      "cell_type": "markdown",
      "metadata": {
        "id": "d2KMG5L3QmQd"
      },
      "source": [
        "Kegiatan 7 : **20 poin**\n",
        "\n",
        "Tulis program NumPy untuk menghitung frekuensi keluarnya nilai di dalam array numpy berikut."
      ]
    },
    {
      "cell_type": "code",
      "metadata": {
        "id": "ZZbDu5XOPPkG"
      },
      "source": [
        "import numpy as np\n",
        "a = np.array( [40,20,10,30,20,40,30,10,20,50,10,40] )"
      ],
      "execution_count": 42,
      "outputs": []
    },
    {
      "cell_type": "markdown",
      "metadata": {
        "id": "XtKOzbP5icod"
      },
      "source": [
        "```\n",
        "# Output\n",
        "Jumlah nilai unik dari array:\n",
        "[[10 20 30 40 50]\n",
        " [ 3  3  2  3  1]]\n",
        "```\n"
      ]
    },
    {
      "cell_type": "code",
      "metadata": {
        "id": "yrj0ZAjBh4Pd",
        "colab": {
          "base_uri": "https://localhost:8080/"
        },
        "outputId": "e1bd6fe6-dde6-4369-cd77-97c037832373"
      },
      "source": [
        "# TULIS CODE ANDA DISINI\r\n",
        "unik, hitung = np.unique(a, return_counts=True)\r\n",
        "\r\n",
        "print (\"Jumlah nilai unik dari array: \\n\",np.asarray((unik, hitung)))"
      ],
      "execution_count": 46,
      "outputs": [
        {
          "output_type": "stream",
          "text": [
            "Jumlah nilai unik dari array: \n",
            " [[10 20 30 40 50]\n",
            " [ 3  3  2  3  1]]\n"
          ],
          "name": "stdout"
        }
      ]
    }
  ]
}